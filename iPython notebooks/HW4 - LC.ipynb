{
 "metadata": {
  "name": ""
 },
 "nbformat": 3,
 "nbformat_minor": 0,
 "worksheets": [
  {
   "cells": [
    {
     "cell_type": "heading",
     "level": 1,
     "metadata": {},
     "source": [
      "Homework 4, Lauren Church"
     ]
    },
    {
     "cell_type": "raw",
     "metadata": {},
     "source": [
      "Import useful packages"
     ]
    },
    {
     "cell_type": "code",
     "collapsed": false,
     "input": [
      "import pandas as pd\n",
      "import matplotlib.pyplot as plt\n",
      "import numpy as np"
     ],
     "language": "python",
     "metadata": {},
     "outputs": [],
     "prompt_number": 312
    },
    {
     "cell_type": "raw",
     "metadata": {},
     "source": [
      "Import Titanic Dataset; get oriented with it."
     ]
    },
    {
     "cell_type": "code",
     "collapsed": false,
     "input": [
      "data = pd.read_csv('data/titanic-train.csv')\n",
      "\n",
      "data.describe()"
     ],
     "language": "python",
     "metadata": {},
     "outputs": [
      {
       "html": [
        "<div style=\"max-height:1000px;max-width:1500px;overflow:auto;\">\n",
        "<table border=\"1\" class=\"dataframe\">\n",
        "  <thead>\n",
        "    <tr style=\"text-align: right;\">\n",
        "      <th></th>\n",
        "      <th>PassengerId</th>\n",
        "      <th>Survived</th>\n",
        "      <th>Pclass</th>\n",
        "      <th>Age</th>\n",
        "      <th>SibSp</th>\n",
        "      <th>Parch</th>\n",
        "      <th>Fare</th>\n",
        "    </tr>\n",
        "  </thead>\n",
        "  <tbody>\n",
        "    <tr>\n",
        "      <th>count</th>\n",
        "      <td> 891.000000</td>\n",
        "      <td> 891.000000</td>\n",
        "      <td> 891.000000</td>\n",
        "      <td> 714.000000</td>\n",
        "      <td> 891.000000</td>\n",
        "      <td> 891.000000</td>\n",
        "      <td> 891.000000</td>\n",
        "    </tr>\n",
        "    <tr>\n",
        "      <th>mean</th>\n",
        "      <td> 446.000000</td>\n",
        "      <td>   0.383838</td>\n",
        "      <td>   2.308642</td>\n",
        "      <td>  29.699118</td>\n",
        "      <td>   0.523008</td>\n",
        "      <td>   0.381594</td>\n",
        "      <td>  32.204208</td>\n",
        "    </tr>\n",
        "    <tr>\n",
        "      <th>std</th>\n",
        "      <td> 257.353842</td>\n",
        "      <td>   0.486592</td>\n",
        "      <td>   0.836071</td>\n",
        "      <td>  14.526497</td>\n",
        "      <td>   1.102743</td>\n",
        "      <td>   0.806057</td>\n",
        "      <td>  49.693429</td>\n",
        "    </tr>\n",
        "    <tr>\n",
        "      <th>min</th>\n",
        "      <td>   1.000000</td>\n",
        "      <td>   0.000000</td>\n",
        "      <td>   1.000000</td>\n",
        "      <td>   0.420000</td>\n",
        "      <td>   0.000000</td>\n",
        "      <td>   0.000000</td>\n",
        "      <td>   0.000000</td>\n",
        "    </tr>\n",
        "    <tr>\n",
        "      <th>25%</th>\n",
        "      <td> 223.500000</td>\n",
        "      <td>   0.000000</td>\n",
        "      <td>   2.000000</td>\n",
        "      <td>  20.125000</td>\n",
        "      <td>   0.000000</td>\n",
        "      <td>   0.000000</td>\n",
        "      <td>   7.910400</td>\n",
        "    </tr>\n",
        "    <tr>\n",
        "      <th>50%</th>\n",
        "      <td> 446.000000</td>\n",
        "      <td>   0.000000</td>\n",
        "      <td>   3.000000</td>\n",
        "      <td>  28.000000</td>\n",
        "      <td>   0.000000</td>\n",
        "      <td>   0.000000</td>\n",
        "      <td>  14.454200</td>\n",
        "    </tr>\n",
        "    <tr>\n",
        "      <th>75%</th>\n",
        "      <td> 668.500000</td>\n",
        "      <td>   1.000000</td>\n",
        "      <td>   3.000000</td>\n",
        "      <td>  38.000000</td>\n",
        "      <td>   1.000000</td>\n",
        "      <td>   0.000000</td>\n",
        "      <td>  31.000000</td>\n",
        "    </tr>\n",
        "    <tr>\n",
        "      <th>max</th>\n",
        "      <td> 891.000000</td>\n",
        "      <td>   1.000000</td>\n",
        "      <td>   3.000000</td>\n",
        "      <td>  80.000000</td>\n",
        "      <td>   8.000000</td>\n",
        "      <td>   6.000000</td>\n",
        "      <td> 512.329200</td>\n",
        "    </tr>\n",
        "  </tbody>\n",
        "</table>\n",
        "<p>8 rows \u00d7 7 columns</p>\n",
        "</div>"
       ],
       "metadata": {},
       "output_type": "pyout",
       "prompt_number": 313,
       "text": [
        "       PassengerId    Survived      Pclass         Age       SibSp  \\\n",
        "count   891.000000  891.000000  891.000000  714.000000  891.000000   \n",
        "mean    446.000000    0.383838    2.308642   29.699118    0.523008   \n",
        "std     257.353842    0.486592    0.836071   14.526497    1.102743   \n",
        "min       1.000000    0.000000    1.000000    0.420000    0.000000   \n",
        "25%     223.500000    0.000000    2.000000   20.125000    0.000000   \n",
        "50%     446.000000    0.000000    3.000000   28.000000    0.000000   \n",
        "75%     668.500000    1.000000    3.000000   38.000000    1.000000   \n",
        "max     891.000000    1.000000    3.000000   80.000000    8.000000   \n",
        "\n",
        "            Parch        Fare  \n",
        "count  891.000000  891.000000  \n",
        "mean     0.381594   32.204208  \n",
        "std      0.806057   49.693429  \n",
        "min      0.000000    0.000000  \n",
        "25%      0.000000    7.910400  \n",
        "50%      0.000000   14.454200  \n",
        "75%      0.000000   31.000000  \n",
        "max      6.000000  512.329200  \n",
        "\n",
        "[8 rows x 7 columns]"
       ]
      }
     ],
     "prompt_number": 313
    },
    {
     "cell_type": "heading",
     "level": 2,
     "metadata": {},
     "source": [
      "1) Impute the missing values for Age so that there are no \u201cNaN\u201d values as inputs to your model."
     ]
    },
    {
     "cell_type": "code",
     "collapsed": false,
     "input": [
      "data.Age.describe()"
     ],
     "language": "python",
     "metadata": {},
     "outputs": [
      {
       "metadata": {},
       "output_type": "pyout",
       "prompt_number": 314,
       "text": [
        "count    714.000000\n",
        "mean      29.699118\n",
        "std       14.526497\n",
        "min        0.420000\n",
        "25%       20.125000\n",
        "50%       28.000000\n",
        "75%       38.000000\n",
        "max       80.000000\n",
        "Name: Age, dtype: float64"
       ]
      }
     ],
     "prompt_number": 314
    },
    {
     "cell_type": "code",
     "collapsed": false,
     "input": [
      "NaN_values = data.Age."
     ],
     "language": "python",
     "metadata": {},
     "outputs": [
      {
       "ename": "TypeError",
       "evalue": "get() got an unexpected keyword argument 'value'",
       "output_type": "pyerr",
       "traceback": [
        "\u001b[0;31m---------------------------------------------------------------------------\u001b[0m\n\u001b[0;31mTypeError\u001b[0m                                 Traceback (most recent call last)",
        "\u001b[0;32m<ipython-input-457-5ad36852f2b4>\u001b[0m in \u001b[0;36m<module>\u001b[0;34m()\u001b[0m\n\u001b[0;32m----> 1\u001b[0;31m \u001b[0mNaN_values\u001b[0m \u001b[0;34m=\u001b[0m \u001b[0mdata\u001b[0m\u001b[0;34m.\u001b[0m\u001b[0mAge\u001b[0m\u001b[0;34m.\u001b[0m\u001b[0mget\u001b[0m\u001b[0;34m(\u001b[0m\u001b[0mvalue\u001b[0m\u001b[0;34m=\u001b[0m\u001b[0mNaN\u001b[0m\u001b[0;34m)\u001b[0m\u001b[0;34m\u001b[0m\u001b[0m\n\u001b[0m",
        "\u001b[0;31mTypeError\u001b[0m: get() got an unexpected keyword argument 'value'"
       ]
      }
     ],
     "prompt_number": 457
    },
    {
     "cell_type": "code",
     "collapsed": false,
     "input": [
      "NaN_values()"
     ],
     "language": "python",
     "metadata": {},
     "outputs": [
      {
       "ename": "TypeError",
       "evalue": "'NoneType' object is not callable",
       "output_type": "pyerr",
       "traceback": [
        "\u001b[0;31m---------------------------------------------------------------------------\u001b[0m\n\u001b[0;31mTypeError\u001b[0m                                 Traceback (most recent call last)",
        "\u001b[0;32m<ipython-input-456-9244a18742bb>\u001b[0m in \u001b[0;36m<module>\u001b[0;34m()\u001b[0m\n\u001b[0;32m----> 1\u001b[0;31m \u001b[0mNaN_values\u001b[0m\u001b[0;34m(\u001b[0m\u001b[0;34m)\u001b[0m\u001b[0;34m\u001b[0m\u001b[0m\n\u001b[0m",
        "\u001b[0;31mTypeError\u001b[0m: 'NoneType' object is not callable"
       ]
      }
     ],
     "prompt_number": 456
    },
    {
     "cell_type": "code",
     "collapsed": false,
     "input": [
      "Age = data.Age.dropna()\n",
      "\n",
      "plt.hist(Age, bins=17)\n",
      "plt.title(\"Age Distribution, n=714\")\n",
      "plt.xlabel(\"Age\")\n",
      "plt.ylabel(\"Frequency\")\n",
      "plt.show()"
     ],
     "language": "python",
     "metadata": {},
     "outputs": [
      {
       "metadata": {},
       "output_type": "display_data",
       "png": "[encoded data removed]",
       "text": [
        "<matplotlib.figure.Figure at 0x10ac94dd0>"
       ]
      }
     ],
     "prompt_number": 315
    },
    {
     "cell_type": "code",
     "collapsed": false,
     "input": [
      "data.Age.median()"
     ],
     "language": "python",
     "metadata": {},
     "outputs": [
      {
       "metadata": {},
       "output_type": "pyout",
       "prompt_number": 316,
       "text": [
        "28.0"
       ]
      }
     ],
     "prompt_number": 316
    },
    {
     "cell_type": "code",
     "collapsed": false,
     "input": [
      "clean_data = data.fillna(value=28.0)"
     ],
     "language": "python",
     "metadata": {},
     "outputs": [],
     "prompt_number": 317
    },
    {
     "cell_type": "code",
     "collapsed": false,
     "input": [
      "clean_data.Age.describe()"
     ],
     "language": "python",
     "metadata": {},
     "outputs": [
      {
       "metadata": {},
       "output_type": "pyout",
       "prompt_number": 318,
       "text": [
        "count    891.000000\n",
        "mean      29.361582\n",
        "std       13.019697\n",
        "min        0.420000\n",
        "25%       22.000000\n",
        "50%       28.000000\n",
        "75%       35.000000\n",
        "max       80.000000\n",
        "Name: Age, dtype: float64"
       ]
      }
     ],
     "prompt_number": 318
    },
    {
     "cell_type": "code",
     "collapsed": false,
     "input": [
      "plt.hist(clean_data.Age, bins=17)\n",
      "plt.title(\"Age Distribution, n=891\")\n",
      "plt.xlabel(\"Age\")\n",
      "plt.ylabel(\"Frequency\")\n",
      "plt.show()"
     ],
     "language": "python",
     "metadata": {},
     "outputs": [
      {
       "metadata": {},
       "output_type": "display_data",
       "png": "[encoded data removed]",
       "text": [
        "<matplotlib.figure.Figure at 0x10accf450>"
       ]
      }
     ],
     "prompt_number": 319
    },
    {
     "cell_type": "heading",
     "level": 2,
     "metadata": {},
     "source": [
      "2. Create and run a logistic regression on the Titanic data to predict the survival \n",
      "of passengers. "
     ]
    },
    {
     "cell_type": "code",
     "collapsed": false,
     "input": [
      "clean_data.head()"
     ],
     "language": "python",
     "metadata": {},
     "outputs": [
      {
       "html": [
        "<div style=\"max-height:1000px;max-width:1500px;overflow:auto;\">\n",
        "<table border=\"1\" class=\"dataframe\">\n",
        "  <thead>\n",
        "    <tr style=\"text-align: right;\">\n",
        "      <th></th>\n",
        "      <th>PassengerId</th>\n",
        "      <th>Survived</th>\n",
        "      <th>Pclass</th>\n",
        "      <th>Name</th>\n",
        "      <th>Sex</th>\n",
        "      <th>Age</th>\n",
        "      <th>SibSp</th>\n",
        "      <th>Parch</th>\n",
        "      <th>Ticket</th>\n",
        "      <th>Fare</th>\n",
        "      <th>Cabin</th>\n",
        "      <th>Embarked</th>\n",
        "    </tr>\n",
        "  </thead>\n",
        "  <tbody>\n",
        "    <tr>\n",
        "      <th>0</th>\n",
        "      <td> 1</td>\n",
        "      <td> 0</td>\n",
        "      <td> 3</td>\n",
        "      <td>                           Braund, Mr. Owen Harris</td>\n",
        "      <td>   male</td>\n",
        "      <td> 22</td>\n",
        "      <td> 1</td>\n",
        "      <td> 0</td>\n",
        "      <td>        A/5 21171</td>\n",
        "      <td>  7.2500</td>\n",
        "      <td>   28</td>\n",
        "      <td> S</td>\n",
        "    </tr>\n",
        "    <tr>\n",
        "      <th>1</th>\n",
        "      <td> 2</td>\n",
        "      <td> 1</td>\n",
        "      <td> 1</td>\n",
        "      <td> Cumings, Mrs. John Bradley (Florence Briggs Th...</td>\n",
        "      <td> female</td>\n",
        "      <td> 38</td>\n",
        "      <td> 1</td>\n",
        "      <td> 0</td>\n",
        "      <td>         PC 17599</td>\n",
        "      <td> 71.2833</td>\n",
        "      <td>  C85</td>\n",
        "      <td> C</td>\n",
        "    </tr>\n",
        "    <tr>\n",
        "      <th>2</th>\n",
        "      <td> 3</td>\n",
        "      <td> 1</td>\n",
        "      <td> 3</td>\n",
        "      <td>                            Heikkinen, Miss. Laina</td>\n",
        "      <td> female</td>\n",
        "      <td> 26</td>\n",
        "      <td> 0</td>\n",
        "      <td> 0</td>\n",
        "      <td> STON/O2. 3101282</td>\n",
        "      <td>  7.9250</td>\n",
        "      <td>   28</td>\n",
        "      <td> S</td>\n",
        "    </tr>\n",
        "    <tr>\n",
        "      <th>3</th>\n",
        "      <td> 4</td>\n",
        "      <td> 1</td>\n",
        "      <td> 1</td>\n",
        "      <td>      Futrelle, Mrs. Jacques Heath (Lily May Peel)</td>\n",
        "      <td> female</td>\n",
        "      <td> 35</td>\n",
        "      <td> 1</td>\n",
        "      <td> 0</td>\n",
        "      <td>           113803</td>\n",
        "      <td> 53.1000</td>\n",
        "      <td> C123</td>\n",
        "      <td> S</td>\n",
        "    </tr>\n",
        "    <tr>\n",
        "      <th>4</th>\n",
        "      <td> 5</td>\n",
        "      <td> 0</td>\n",
        "      <td> 3</td>\n",
        "      <td>                          Allen, Mr. William Henry</td>\n",
        "      <td>   male</td>\n",
        "      <td> 35</td>\n",
        "      <td> 0</td>\n",
        "      <td> 0</td>\n",
        "      <td>           373450</td>\n",
        "      <td>  8.0500</td>\n",
        "      <td>   28</td>\n",
        "      <td> S</td>\n",
        "    </tr>\n",
        "  </tbody>\n",
        "</table>\n",
        "<p>5 rows \u00d7 12 columns</p>\n",
        "</div>"
       ],
       "metadata": {},
       "output_type": "pyout",
       "prompt_number": 320,
       "text": [
        "   PassengerId  Survived  Pclass  \\\n",
        "0            1         0       3   \n",
        "1            2         1       1   \n",
        "2            3         1       3   \n",
        "3            4         1       1   \n",
        "4            5         0       3   \n",
        "\n",
        "                                                Name     Sex  Age  SibSp  \\\n",
        "0                            Braund, Mr. Owen Harris    male   22      1   \n",
        "1  Cumings, Mrs. John Bradley (Florence Briggs Th...  female   38      1   \n",
        "2                             Heikkinen, Miss. Laina  female   26      0   \n",
        "3       Futrelle, Mrs. Jacques Heath (Lily May Peel)  female   35      1   \n",
        "4                           Allen, Mr. William Henry    male   35      0   \n",
        "\n",
        "   Parch            Ticket     Fare Cabin Embarked  \n",
        "0      0         A/5 21171   7.2500    28        S  \n",
        "1      0          PC 17599  71.2833   C85        C  \n",
        "2      0  STON/O2. 3101282   7.9250    28        S  \n",
        "3      0            113803  53.1000  C123        S  \n",
        "4      0            373450   8.0500    28        S  \n",
        "\n",
        "[5 rows x 12 columns]"
       ]
      }
     ],
     "prompt_number": 320
    },
    {
     "cell_type": "raw",
     "metadata": {},
     "source": [
      "In addition to the existing numerical features, I definitely want to use gender in my model and probably should look at port (Embarked) so I need to convert from string to int:"
     ]
    },
    {
     "cell_type": "code",
     "collapsed": false,
     "input": [
      "lr_data_sex = clean_data.replace(to_replace= {'male', 'female', }, value= {0, 1})\n",
      "lr_data_port = lr_data_sex.replace(to_replace= {'S', 'C', 'Q' }, value= {0, 1, 3})"
     ],
     "language": "python",
     "metadata": {},
     "outputs": [],
     "prompt_number": 321
    },
    {
     "cell_type": "code",
     "collapsed": false,
     "input": [
      "lr_data_port.head()"
     ],
     "language": "python",
     "metadata": {},
     "outputs": [
      {
       "html": [
        "<div style=\"max-height:1000px;max-width:1500px;overflow:auto;\">\n",
        "<table border=\"1\" class=\"dataframe\">\n",
        "  <thead>\n",
        "    <tr style=\"text-align: right;\">\n",
        "      <th></th>\n",
        "      <th>PassengerId</th>\n",
        "      <th>Survived</th>\n",
        "      <th>Pclass</th>\n",
        "      <th>Name</th>\n",
        "      <th>Sex</th>\n",
        "      <th>Age</th>\n",
        "      <th>SibSp</th>\n",
        "      <th>Parch</th>\n",
        "      <th>Ticket</th>\n",
        "      <th>Fare</th>\n",
        "      <th>Cabin</th>\n",
        "      <th>Embarked</th>\n",
        "    </tr>\n",
        "  </thead>\n",
        "  <tbody>\n",
        "    <tr>\n",
        "      <th>0</th>\n",
        "      <td> 1</td>\n",
        "      <td> 0</td>\n",
        "      <td> 3</td>\n",
        "      <td>                           Braund, Mr. Owen Harris</td>\n",
        "      <td> 0</td>\n",
        "      <td> 22</td>\n",
        "      <td> 1</td>\n",
        "      <td> 0</td>\n",
        "      <td>        A/5 21171</td>\n",
        "      <td>  7.2500</td>\n",
        "      <td>   28</td>\n",
        "      <td> 3</td>\n",
        "    </tr>\n",
        "    <tr>\n",
        "      <th>1</th>\n",
        "      <td> 2</td>\n",
        "      <td> 1</td>\n",
        "      <td> 1</td>\n",
        "      <td> Cumings, Mrs. John Bradley (Florence Briggs Th...</td>\n",
        "      <td> 1</td>\n",
        "      <td> 38</td>\n",
        "      <td> 1</td>\n",
        "      <td> 0</td>\n",
        "      <td>         PC 17599</td>\n",
        "      <td> 71.2833</td>\n",
        "      <td>  C85</td>\n",
        "      <td> 1</td>\n",
        "    </tr>\n",
        "    <tr>\n",
        "      <th>2</th>\n",
        "      <td> 3</td>\n",
        "      <td> 1</td>\n",
        "      <td> 3</td>\n",
        "      <td>                            Heikkinen, Miss. Laina</td>\n",
        "      <td> 1</td>\n",
        "      <td> 26</td>\n",
        "      <td> 0</td>\n",
        "      <td> 0</td>\n",
        "      <td> STON/O2. 3101282</td>\n",
        "      <td>  7.9250</td>\n",
        "      <td>   28</td>\n",
        "      <td> 3</td>\n",
        "    </tr>\n",
        "    <tr>\n",
        "      <th>3</th>\n",
        "      <td> 4</td>\n",
        "      <td> 1</td>\n",
        "      <td> 1</td>\n",
        "      <td>      Futrelle, Mrs. Jacques Heath (Lily May Peel)</td>\n",
        "      <td> 1</td>\n",
        "      <td> 35</td>\n",
        "      <td> 1</td>\n",
        "      <td> 0</td>\n",
        "      <td>           113803</td>\n",
        "      <td> 53.1000</td>\n",
        "      <td> C123</td>\n",
        "      <td> 3</td>\n",
        "    </tr>\n",
        "    <tr>\n",
        "      <th>4</th>\n",
        "      <td> 5</td>\n",
        "      <td> 0</td>\n",
        "      <td> 3</td>\n",
        "      <td>                          Allen, Mr. William Henry</td>\n",
        "      <td> 0</td>\n",
        "      <td> 35</td>\n",
        "      <td> 0</td>\n",
        "      <td> 0</td>\n",
        "      <td>           373450</td>\n",
        "      <td>  8.0500</td>\n",
        "      <td>   28</td>\n",
        "      <td> 3</td>\n",
        "    </tr>\n",
        "  </tbody>\n",
        "</table>\n",
        "<p>5 rows \u00d7 12 columns</p>\n",
        "</div>"
       ],
       "metadata": {},
       "output_type": "pyout",
       "prompt_number": 322,
       "text": [
        "   PassengerId  Survived  Pclass  \\\n",
        "0            1         0       3   \n",
        "1            2         1       1   \n",
        "2            3         1       3   \n",
        "3            4         1       1   \n",
        "4            5         0       3   \n",
        "\n",
        "                                                Name  Sex  Age  SibSp  Parch  \\\n",
        "0                            Braund, Mr. Owen Harris    0   22      1      0   \n",
        "1  Cumings, Mrs. John Bradley (Florence Briggs Th...    1   38      1      0   \n",
        "2                             Heikkinen, Miss. Laina    1   26      0      0   \n",
        "3       Futrelle, Mrs. Jacques Heath (Lily May Peel)    1   35      1      0   \n",
        "4                           Allen, Mr. William Henry    0   35      0      0   \n",
        "\n",
        "             Ticket     Fare Cabin  Embarked  \n",
        "0         A/5 21171   7.2500    28         3  \n",
        "1          PC 17599  71.2833   C85         1  \n",
        "2  STON/O2. 3101282   7.9250    28         3  \n",
        "3            113803  53.1000  C123         3  \n",
        "4            373450   8.0500    28         3  \n",
        "\n",
        "[5 rows x 12 columns]"
       ]
      }
     ],
     "prompt_number": 322
    },
    {
     "cell_type": "raw",
     "metadata": {},
     "source": [
      "Now should be ready to select data for the logistic regression features and target:"
     ]
    },
    {
     "cell_type": "code",
     "collapsed": false,
     "input": [
      "features = lr_data_port.get(['Fare', 'Pclass', 'Age', 'Sex', 'Embarked'])\n",
      "target = lr_data_port.Survived.values"
     ],
     "language": "python",
     "metadata": {},
     "outputs": [],
     "prompt_number": 382
    },
    {
     "cell_type": "code",
     "collapsed": false,
     "input": [
      "feature_values = features.values"
     ],
     "language": "python",
     "metadata": {},
     "outputs": [],
     "prompt_number": 384
    },
    {
     "cell_type": "raw",
     "metadata": {},
     "source": [
      "I will now implement the logistic regression using the five features I have selected.  I'm using some of the code from lab 7 here. "
     ]
    },
    {
     "cell_type": "code",
     "collapsed": false,
     "input": [
      "from sklearn.cross_validation import train_test_split\n",
      "\n",
      "feature_values_train, feature_values_test, target_train, target_test = train_test_split(\n",
      "    feature_values, target, test_size=0.20, random_state=0)"
     ],
     "language": "python",
     "metadata": {},
     "outputs": [],
     "prompt_number": 385
    },
    {
     "cell_type": "code",
     "collapsed": false,
     "input": [
      "features_train.shape"
     ],
     "language": "python",
     "metadata": {},
     "outputs": [
      {
       "metadata": {},
       "output_type": "pyout",
       "prompt_number": 386,
       "text": [
        "(712, 5)"
       ]
      }
     ],
     "prompt_number": 386
    },
    {
     "cell_type": "code",
     "collapsed": false,
     "input": [
      "features_test.shape"
     ],
     "language": "python",
     "metadata": {},
     "outputs": [
      {
       "metadata": {},
       "output_type": "pyout",
       "prompt_number": 387,
       "text": [
        "(179, 5)"
       ]
      }
     ],
     "prompt_number": 387
    },
    {
     "cell_type": "code",
     "collapsed": false,
     "input": [
      "target_train.shape"
     ],
     "language": "python",
     "metadata": {},
     "outputs": [
      {
       "metadata": {},
       "output_type": "pyout",
       "prompt_number": 388,
       "text": [
        "(712,)"
       ]
      }
     ],
     "prompt_number": 388
    },
    {
     "cell_type": "code",
     "collapsed": false,
     "input": [
      "target_test.shape"
     ],
     "language": "python",
     "metadata": {},
     "outputs": [
      {
       "metadata": {},
       "output_type": "pyout",
       "prompt_number": 389,
       "text": [
        "(179,)"
       ]
      }
     ],
     "prompt_number": 389
    },
    {
     "cell_type": "code",
     "collapsed": false,
     "input": [
      "from sklearn.linear_model import LogisticRegression\n",
      "from sklearn.metrics import classification_report as cr"
     ],
     "language": "python",
     "metadata": {},
     "outputs": [],
     "prompt_number": 390
    },
    {
     "cell_type": "code",
     "collapsed": false,
     "input": [
      "lr = LogisticRegression(C=2)\n",
      "lr.fit(features_train, target_train)"
     ],
     "language": "python",
     "metadata": {},
     "outputs": [
      {
       "metadata": {},
       "output_type": "pyout",
       "prompt_number": 391,
       "text": [
        "LogisticRegression(C=2, class_weight=None, dual=False, fit_intercept=True,\n",
        "          intercept_scaling=1, penalty='l2', random_state=None, tol=0.0001)"
       ]
      }
     ],
     "prompt_number": 391
    },
    {
     "cell_type": "code",
     "collapsed": false,
     "input": [
      "target_predicted = lr.predict(features_test)"
     ],
     "language": "python",
     "metadata": {},
     "outputs": [],
     "prompt_number": 392
    },
    {
     "cell_type": "code",
     "collapsed": false,
     "input": [
      "lr.score(X=features_test, y=target_test)"
     ],
     "language": "python",
     "metadata": {},
     "outputs": [
      {
       "metadata": {},
       "output_type": "pyout",
       "prompt_number": 393,
       "text": [
        "0.8044692737430168"
       ]
      }
     ],
     "prompt_number": 393
    },
    {
     "cell_type": "raw",
     "metadata": {},
     "source": [
      "80.4% accuracy with this run.  This accuracy value is better than the value of 73% achieved in our Lab 7, and better than a coin flip."
     ]
    },
    {
     "cell_type": "code",
     "collapsed": false,
     "input": [
      "y_true = target_test\n",
      "y_pred = target_predicted\n",
      "target_names=['Did not Survive', 'Survived']\n",
      "\n",
      "print(cr(y_true, y_pred, target_names=target_names))"
     ],
     "language": "python",
     "metadata": {},
     "outputs": [
      {
       "output_type": "stream",
       "stream": "stdout",
       "text": [
        "                 precision    recall  f1-score   support\n",
        "\n",
        "Did not Survive       0.84      0.85      0.84       110\n",
        "       Survived       0.75      0.74      0.74        69\n",
        "\n",
        "    avg / total       0.80      0.80      0.80       179\n",
        "\n"
       ]
      }
     ],
     "prompt_number": 394
    },
    {
     "cell_type": "heading",
     "level": 3,
     "metadata": {},
     "source": [
      "a. Make sure your model results are reproducible by the instructor team, given any random aspects to your code / steps. "
     ]
    },
    {
     "cell_type": "raw",
     "metadata": {},
     "source": [
      "pretty straight forward, should be reproducible "
     ]
    },
    {
     "cell_type": "heading",
     "level": 3,
     "metadata": {},
     "source": [
      "b. For your model output, include coefficient values, residuals, and standard errors. "
     ]
    },
    {
     "cell_type": "heading",
     "level": 3,
     "metadata": {},
     "source": [
      "c. Explain which features are predictive for this logistic regression and, intuitively, why you think this may be so. Describe your thinking / logic in words. It is not sufficient to cite output statistics."
     ]
    },
    {
     "cell_type": "code",
     "collapsed": false,
     "input": [
      "feature_names"
     ],
     "language": "python",
     "metadata": {},
     "outputs": [
      {
       "metadata": {},
       "output_type": "pyout",
       "prompt_number": 395,
       "text": [
        "array(['Fare', 'Pclass', 'Age', 'Sex', 'Embarked'], dtype=object)"
       ]
      }
     ],
     "prompt_number": 395
    },
    {
     "cell_type": "code",
     "collapsed": false,
     "input": [
      "lr.coef_"
     ],
     "language": "python",
     "metadata": {},
     "outputs": [
      {
       "metadata": {},
       "output_type": "pyout",
       "prompt_number": 396,
       "text": [
        "array([[  7.88812268e-04,  -1.02500094e+00,  -3.25647883e-02,\n",
        "          2.50502467e+00,  -3.71451861e-02]])"
       ]
      }
     ],
     "prompt_number": 396
    },
    {
     "cell_type": "code",
     "collapsed": false,
     "input": [
      "x = np.arange(len(feature_names))\n",
      "plt.bar(x, lr.coef_.ravel())\n",
      "_ = plt.xticks(x + 0.5, feature_names, rotation=30)\n",
      "plt.title(\"Logistic Regression Feature Coefficients\")\n",
      "plt.xlabel(\"Feature\")\n",
      "plt.ylabel(\"Coefficient\")"
     ],
     "language": "python",
     "metadata": {},
     "outputs": [
      {
       "metadata": {},
       "output_type": "pyout",
       "prompt_number": 397,
       "text": [
        "<matplotlib.text.Text at 0x10af9f890>"
       ]
      },
      {
       "metadata": {},
       "output_type": "display_data",
       "png": "[encoded data removed]",
       "text": [
        "<matplotlib.figure.Figure at 0x10aeb1e10>"
       ]
      }
     ],
     "prompt_number": 397
    },
    {
     "cell_type": "raw",
     "metadata": {},
     "source": [
      "cool, so this plot shows that sex of passenger was the most predictive of passenger survival out of the five features I used, showing a strong, positive correlation.  Passenger class was also a good predictor of passenger survival showing a strong, negative correlation (which makes sense as first class is higher in the ship than third class).  Fare, age and embarked were all positively correlated with survival, but not significantly.  I put port embarked from in the model as a test because, intuitively it doesn't seem like it should have any predictive value on survival."
     ]
    },
    {
     "cell_type": "heading",
     "level": 3,
     "metadata": {},
     "source": [
      "d. Make sure that you can push new data points through your model to get regression output. We will be providing a test set for this purpose. "
     ]
    },
    {
     "cell_type": "code",
     "collapsed": false,
     "input": [
      "test_data = pd.read_csv('data/titanic_test.csv')"
     ],
     "language": "python",
     "metadata": {},
     "outputs": [],
     "prompt_number": 398
    },
    {
     "cell_type": "code",
     "collapsed": false,
     "input": [
      "test_data.head()"
     ],
     "language": "python",
     "metadata": {},
     "outputs": [
      {
       "html": [
        "<div style=\"max-height:1000px;max-width:1500px;overflow:auto;\">\n",
        "<table border=\"1\" class=\"dataframe\">\n",
        "  <thead>\n",
        "    <tr style=\"text-align: right;\">\n",
        "      <th></th>\n",
        "      <th>PassengerId</th>\n",
        "      <th>Pclass</th>\n",
        "      <th>Name</th>\n",
        "      <th>Sex</th>\n",
        "      <th>Age</th>\n",
        "      <th>SibSp</th>\n",
        "      <th>Parch</th>\n",
        "      <th>Ticket</th>\n",
        "      <th>Fare</th>\n",
        "      <th>Cabin</th>\n",
        "      <th>Embarked</th>\n",
        "    </tr>\n",
        "  </thead>\n",
        "  <tbody>\n",
        "    <tr>\n",
        "      <th>0</th>\n",
        "      <td> 892</td>\n",
        "      <td> 3</td>\n",
        "      <td>                             Kelly, Mr. James</td>\n",
        "      <td>   male</td>\n",
        "      <td> 34.5</td>\n",
        "      <td> 0</td>\n",
        "      <td> 0</td>\n",
        "      <td>  330911</td>\n",
        "      <td>  7.8292</td>\n",
        "      <td> NaN</td>\n",
        "      <td> Q</td>\n",
        "    </tr>\n",
        "    <tr>\n",
        "      <th>1</th>\n",
        "      <td> 893</td>\n",
        "      <td> 3</td>\n",
        "      <td>             Wilkes, Mrs. James (Ellen Needs)</td>\n",
        "      <td> female</td>\n",
        "      <td> 47.0</td>\n",
        "      <td> 1</td>\n",
        "      <td> 0</td>\n",
        "      <td>  363272</td>\n",
        "      <td>  7.0000</td>\n",
        "      <td> NaN</td>\n",
        "      <td> S</td>\n",
        "    </tr>\n",
        "    <tr>\n",
        "      <th>2</th>\n",
        "      <td> 894</td>\n",
        "      <td> 2</td>\n",
        "      <td>                    Myles, Mr. Thomas Francis</td>\n",
        "      <td>   male</td>\n",
        "      <td> 62.0</td>\n",
        "      <td> 0</td>\n",
        "      <td> 0</td>\n",
        "      <td>  240276</td>\n",
        "      <td>  9.6875</td>\n",
        "      <td> NaN</td>\n",
        "      <td> Q</td>\n",
        "    </tr>\n",
        "    <tr>\n",
        "      <th>3</th>\n",
        "      <td> 895</td>\n",
        "      <td> 3</td>\n",
        "      <td>                             Wirz, Mr. Albert</td>\n",
        "      <td>   male</td>\n",
        "      <td> 27.0</td>\n",
        "      <td> 0</td>\n",
        "      <td> 0</td>\n",
        "      <td>  315154</td>\n",
        "      <td>  8.6625</td>\n",
        "      <td> NaN</td>\n",
        "      <td> S</td>\n",
        "    </tr>\n",
        "    <tr>\n",
        "      <th>4</th>\n",
        "      <td> 896</td>\n",
        "      <td> 3</td>\n",
        "      <td> Hirvonen, Mrs. Alexander (Helga E Lindqvist)</td>\n",
        "      <td> female</td>\n",
        "      <td> 22.0</td>\n",
        "      <td> 1</td>\n",
        "      <td> 1</td>\n",
        "      <td> 3101298</td>\n",
        "      <td> 12.2875</td>\n",
        "      <td> NaN</td>\n",
        "      <td> S</td>\n",
        "    </tr>\n",
        "  </tbody>\n",
        "</table>\n",
        "<p>5 rows \u00d7 11 columns</p>\n",
        "</div>"
       ],
       "metadata": {},
       "output_type": "pyout",
       "prompt_number": 399,
       "text": [
        "   PassengerId  Pclass                                          Name     Sex  \\\n",
        "0          892       3                              Kelly, Mr. James    male   \n",
        "1          893       3              Wilkes, Mrs. James (Ellen Needs)  female   \n",
        "2          894       2                     Myles, Mr. Thomas Francis    male   \n",
        "3          895       3                              Wirz, Mr. Albert    male   \n",
        "4          896       3  Hirvonen, Mrs. Alexander (Helga E Lindqvist)  female   \n",
        "\n",
        "    Age  SibSp  Parch   Ticket     Fare Cabin Embarked  \n",
        "0  34.5      0      0   330911   7.8292   NaN        Q  \n",
        "1  47.0      1      0   363272   7.0000   NaN        S  \n",
        "2  62.0      0      0   240276   9.6875   NaN        Q  \n",
        "3  27.0      0      0   315154   8.6625   NaN        S  \n",
        "4  22.0      1      1  3101298  12.2875   NaN        S  \n",
        "\n",
        "[5 rows x 11 columns]"
       ]
      }
     ],
     "prompt_number": 399
    },
    {
     "cell_type": "code",
     "collapsed": false,
     "input": [
      "test_data.Age.median()"
     ],
     "language": "python",
     "metadata": {},
     "outputs": [
      {
       "metadata": {},
       "output_type": "pyout",
       "prompt_number": 400,
       "text": [
        "27.0"
       ]
      }
     ],
     "prompt_number": 400
    },
    {
     "cell_type": "code",
     "collapsed": false,
     "input": [
      "clean_test = test_data.fillna(value=27.0)\n",
      "test_sex = clean_test.replace(to_replace= {'male', 'female', }, value= {0, 1})\n",
      "test_port = test_sex.replace(to_replace= {'S', 'C', 'Q' }, value= {0, 1, 3})"
     ],
     "language": "python",
     "metadata": {},
     "outputs": [],
     "prompt_number": 401
    },
    {
     "cell_type": "code",
     "collapsed": false,
     "input": [
      "new_features_test = test_port.get(['Fare', 'Pclass', 'Age', 'Sex', 'Embarked'])"
     ],
     "language": "python",
     "metadata": {},
     "outputs": [],
     "prompt_number": 402
    },
    {
     "cell_type": "code",
     "collapsed": false,
     "input": [
      "new_features_test.head()"
     ],
     "language": "python",
     "metadata": {},
     "outputs": [
      {
       "html": [
        "<div style=\"max-height:1000px;max-width:1500px;overflow:auto;\">\n",
        "<table border=\"1\" class=\"dataframe\">\n",
        "  <thead>\n",
        "    <tr style=\"text-align: right;\">\n",
        "      <th></th>\n",
        "      <th>Fare</th>\n",
        "      <th>Pclass</th>\n",
        "      <th>Age</th>\n",
        "      <th>Sex</th>\n",
        "      <th>Embarked</th>\n",
        "    </tr>\n",
        "  </thead>\n",
        "  <tbody>\n",
        "    <tr>\n",
        "      <th>0</th>\n",
        "      <td>  7.8292</td>\n",
        "      <td> 3</td>\n",
        "      <td> 34.5</td>\n",
        "      <td> 0</td>\n",
        "      <td> 0</td>\n",
        "    </tr>\n",
        "    <tr>\n",
        "      <th>1</th>\n",
        "      <td>  7.0000</td>\n",
        "      <td> 3</td>\n",
        "      <td> 47.0</td>\n",
        "      <td> 1</td>\n",
        "      <td> 3</td>\n",
        "    </tr>\n",
        "    <tr>\n",
        "      <th>2</th>\n",
        "      <td>  9.6875</td>\n",
        "      <td> 2</td>\n",
        "      <td> 62.0</td>\n",
        "      <td> 0</td>\n",
        "      <td> 0</td>\n",
        "    </tr>\n",
        "    <tr>\n",
        "      <th>3</th>\n",
        "      <td>  8.6625</td>\n",
        "      <td> 3</td>\n",
        "      <td> 27.0</td>\n",
        "      <td> 0</td>\n",
        "      <td> 3</td>\n",
        "    </tr>\n",
        "    <tr>\n",
        "      <th>4</th>\n",
        "      <td> 12.2875</td>\n",
        "      <td> 3</td>\n",
        "      <td> 22.0</td>\n",
        "      <td> 1</td>\n",
        "      <td> 3</td>\n",
        "    </tr>\n",
        "  </tbody>\n",
        "</table>\n",
        "<p>5 rows \u00d7 5 columns</p>\n",
        "</div>"
       ],
       "metadata": {},
       "output_type": "pyout",
       "prompt_number": 403,
       "text": [
        "      Fare  Pclass   Age  Sex  Embarked\n",
        "0   7.8292       3  34.5    0         0\n",
        "1   7.0000       3  47.0    1         3\n",
        "2   9.6875       2  62.0    0         0\n",
        "3   8.6625       3  27.0    0         3\n",
        "4  12.2875       3  22.0    1         3\n",
        "\n",
        "[5 rows x 5 columns]"
       ]
      }
     ],
     "prompt_number": 403
    },
    {
     "cell_type": "code",
     "collapsed": false,
     "input": [
      "new_features_test_values = new_features_test.values"
     ],
     "language": "python",
     "metadata": {},
     "outputs": [],
     "prompt_number": 404
    },
    {
     "cell_type": "code",
     "collapsed": false,
     "input": [
      "lr.predict_proba(new_features_test_values)"
     ],
     "language": "python",
     "metadata": {},
     "outputs": [
      {
       "metadata": {},
       "output_type": "pyout",
       "prompt_number": 405,
       "text": [
        "array([[ 0.90921913,  0.09078087],\n",
        "       [ 0.57890073,  0.42109927],\n",
        "       [ 0.89781714,  0.10218286],\n",
        "       [ 0.89758548,  0.10241452],\n",
        "       [ 0.37753405,  0.62246595],\n",
        "       [ 0.85156061,  0.14843939],\n",
        "       [ 0.41404438,  0.58595562],\n",
        "       [ 0.74971103,  0.25028897],\n",
        "       [ 0.33168196,  0.66831804],\n",
        "       [ 0.87686529,  0.12313471],\n",
        "       [ 0.89764107,  0.10235893],\n",
        "       [ 0.6738682 ,  0.3261318 ],\n",
        "       [ 0.07091846,  0.92908154],\n",
        "       [ 0.90923545,  0.09076455],\n",
        "       [ 0.1449869 ,  0.8550131 ],\n",
        "       [ 0.17561206,  0.82438794],\n",
        "       [ 0.78446066,  0.21553934],\n",
        "       [ 0.87013294,  0.12986706],\n",
        "       [ 0.41732531,  0.58267469],\n",
        "       [ 0.5445478 ,  0.4554522 ],\n",
        "       [ 0.71467099,  0.28532901],\n",
        "       [ 0.83045363,  0.16954637],\n",
        "       [ 0.08298182,  0.91701818],\n",
        "       [ 0.45249753,  0.54750247],\n",
        "       [ 0.1218627 ,  0.8781373 ],\n",
        "       [ 0.94858617,  0.05141383],\n",
        "       [ 0.06516072,  0.93483928],\n",
        "       [ 0.87555367,  0.12444633],\n",
        "       [ 0.6363043 ,  0.3636957 ],\n",
        "       [ 0.88954696,  0.11045304],\n",
        "       [ 0.86772515,  0.13227485],\n",
        "       [ 0.7369101 ,  0.2630899 ],\n",
        "       [ 0.46297968,  0.53702032],\n",
        "       [ 0.41435048,  0.58564952],\n",
        "       [ 0.52631596,  0.47368404],\n",
        "       [ 0.86065243,  0.13934757],\n",
        "       [ 0.41730133,  0.58269867],\n",
        "       [ 0.37057905,  0.62942095],\n",
        "       [ 0.89137752,  0.10862248],\n",
        "       [ 0.89406459,  0.10593541],\n",
        "       [ 0.92297107,  0.07702893],\n",
        "       [ 0.52661685,  0.47338315],\n",
        "       [ 0.93259349,  0.06740651],\n",
        "       [ 0.22010187,  0.77989813],\n",
        "       [ 0.13790472,  0.86209528],\n",
        "       [ 0.89149776,  0.10850224],\n",
        "       [ 0.64929898,  0.35070102],\n",
        "       [ 0.88695057,  0.11304943],\n",
        "       [ 0.19195671,  0.80804329],\n",
        "       [ 0.48825948,  0.51174052],\n",
        "       [ 0.49562211,  0.50437789],\n",
        "       [ 0.74390469,  0.25609531],\n",
        "       [ 0.16817614,  0.83182386],\n",
        "       [ 0.07226499,  0.92773501],\n",
        "       [ 0.74382264,  0.25617736],\n",
        "       [ 0.8160035 ,  0.1839965 ],\n",
        "       [ 0.91922051,  0.08077949],\n",
        "       [ 0.89151874,  0.10848126],\n",
        "       [ 0.89704492,  0.10295508],\n",
        "       [ 0.08582706,  0.91417294],\n",
        "       [ 0.863614  ,  0.136386  ],\n",
        "       [ 0.78662275,  0.21337725],\n",
        "       [ 0.86741765,  0.13258235],\n",
        "       [ 0.35254643,  0.64745357],\n",
        "       [ 0.35213883,  0.64786117],\n",
        "       [ 0.2027689 ,  0.7972311 ],\n",
        "       [ 0.32338791,  0.67661209],\n",
        "       [ 0.6781671 ,  0.3218329 ],\n",
        "       [ 0.54015562,  0.45984438],\n",
        "       [ 0.18088942,  0.81911058],\n",
        "       [ 0.36754696,  0.63245304],\n",
        "       [ 0.87824299,  0.12175701],\n",
        "       [ 0.43324261,  0.56675739],\n",
        "       [ 0.52003961,  0.47996039],\n",
        "       [ 0.08642256,  0.91357744],\n",
        "       [ 0.51636747,  0.48363253],\n",
        "       [ 0.89762989,  0.10237011],\n",
        "       [ 0.18452708,  0.81547292],\n",
        "       [ 0.77555563,  0.22444437],\n",
        "       [ 0.36754696,  0.63245304],\n",
        "       [ 0.80334542,  0.19665458],\n",
        "       [ 0.77819189,  0.22180811],\n",
        "       [ 0.69496338,  0.30503662],\n",
        "       [ 0.89764107,  0.10235893],\n",
        "       [ 0.73742539,  0.26257461],\n",
        "       [ 0.89010567,  0.10989433],\n",
        "       [ 0.39051155,  0.60948845],\n",
        "       [ 0.34820364,  0.65179636],\n",
        "       [ 0.39053581,  0.60946419],\n",
        "       [ 0.5793851 ,  0.4206149 ],\n",
        "       [ 0.37723519,  0.62276481],\n",
        "       [ 0.89764982,  0.10235018],\n",
        "       [ 0.08177043,  0.91822957],\n",
        "       [ 0.89762989,  0.10237011],\n",
        "       [ 0.49189622,  0.50810378],\n",
        "       [ 0.89150761,  0.10849239],\n",
        "       [ 0.30068527,  0.69931473],\n",
        "       [ 0.90347019,  0.09652981],\n",
        "       [ 0.3631633 ,  0.6368367 ],\n",
        "       [ 0.91424089,  0.08575911],\n",
        "       [ 0.12190632,  0.87809368],\n",
        "       [ 0.75620834,  0.24379166],\n",
        "       [ 0.88695057,  0.11304943],\n",
        "       [ 0.89461896,  0.10538104],\n",
        "       [ 0.31718629,  0.68281371],\n",
        "       [ 0.8995568 ,  0.1004432 ],\n",
        "       [ 0.86582287,  0.13417713],\n",
        "       [ 0.88695057,  0.11304943],\n",
        "       [ 0.89758186,  0.10241814],\n",
        "       [ 0.70379947,  0.29620053],\n",
        "       [ 0.8208711 ,  0.1791289 ],\n",
        "       [ 0.39053033,  0.60946967],\n",
        "       [ 0.10122292,  0.89877708],\n",
        "       [ 0.32706428,  0.67293572],\n",
        "       [ 0.20098919,  0.79901081],\n",
        "       [ 0.85799523,  0.14200477],\n",
        "       [ 0.89072272,  0.10927728],\n",
        "       [ 0.23372976,  0.76627024],\n",
        "       [ 0.57124983,  0.42875017],\n",
        "       [ 0.21283978,  0.78716022],\n",
        "       [ 0.13547323,  0.86452677],\n",
        "       [ 0.88695057,  0.11304943],\n",
        "       [ 0.09649072,  0.90350928],\n",
        "       [ 0.90064026,  0.09935974],\n",
        "       [ 0.88695057,  0.11304943],\n",
        "       [ 0.3394246 ,  0.6605754 ],\n",
        "       [ 0.88169077,  0.11830923],\n",
        "       [ 0.38762959,  0.61237041],\n",
        "       [ 0.83626952,  0.16373048],\n",
        "       [ 0.88829761,  0.11170239],\n",
        "       [ 0.91165298,  0.08834702],\n",
        "       [ 0.70628814,  0.29371186],\n",
        "       [ 0.41396451,  0.58603549],\n",
        "       [ 0.89072272,  0.10927728],\n",
        "       [ 0.93657202,  0.06342798],\n",
        "       [ 0.88831293,  0.11168707],\n",
        "       [ 0.88906649,  0.11093351],\n",
        "       [ 0.75207182,  0.24792818],\n",
        "       [ 0.38600872,  0.61399128],\n",
        "       [ 0.92849914,  0.07150086],\n",
        "       [ 0.28534348,  0.71465652],\n",
        "       [ 0.0909848 ,  0.9090152 ],\n",
        "       [ 0.72181026,  0.27818974],\n",
        "       [ 0.7621617 ,  0.2378383 ],\n",
        "       [ 0.64452071,  0.35547929],\n",
        "       [ 0.9083434 ,  0.0916566 ],\n",
        "       [ 0.52163681,  0.47836319],\n",
        "       [ 0.88166985,  0.11833015],\n",
        "       [ 0.52661685,  0.47338315],\n",
        "       [ 0.77376559,  0.22623441],\n",
        "       [ 0.06613342,  0.93386658],\n",
        "       [ 0.8906107 ,  0.1093893 ],\n",
        "       [ 0.96257004,  0.03742996],\n",
        "       [ 0.48899205,  0.51100795],\n",
        "       [ 0.8451225 ,  0.1548775 ],\n",
        "       [ 0.88833673,  0.11166327],\n",
        "       [ 0.07675145,  0.92324855],\n",
        "       [ 0.38604532,  0.61395468],\n",
        "       [ 0.64452071,  0.35547929],\n",
        "       [ 0.40831333,  0.59168667],\n",
        "       [ 0.39053894,  0.60946106],\n",
        "       [ 0.80843929,  0.19156071],\n",
        "       [ 0.19849515,  0.80150485],\n",
        "       [ 0.89770597,  0.10229403],\n",
        "       [ 0.8317617 ,  0.1682383 ],\n",
        "       [ 0.40674206,  0.59325794],\n",
        "       [ 0.66757769,  0.33242231],\n",
        "       [ 0.86498362,  0.13501638],\n",
        "       [ 0.07772472,  0.92227528],\n",
        "       [ 0.37815061,  0.62184939],\n",
        "       [ 0.89766613,  0.10233387],\n",
        "       [ 0.89066224,  0.10933776],\n",
        "       [ 0.88455489,  0.11544511],\n",
        "       [ 0.89066192,  0.10933808],\n",
        "       [ 0.92930725,  0.07069275],\n",
        "       [ 0.14503893,  0.85496107],\n",
        "       [ 0.1666643 ,  0.8333357 ],\n",
        "       [ 0.70862945,  0.29137055],\n",
        "       [ 0.2515819 ,  0.7484181 ],\n",
        "       [ 0.21206829,  0.78793171],\n",
        "       [ 0.77555563,  0.22444437],\n",
        "       [ 0.5776838 ,  0.4223162 ],\n",
        "       [ 0.06224079,  0.93775921],\n",
        "       [ 0.88695057,  0.11304943],\n",
        "       [ 0.06617098,  0.93382902],\n",
        "       [ 0.82681682,  0.17318318],\n",
        "       [ 0.17300668,  0.82699332],\n",
        "       [ 0.86359967,  0.13640033],\n",
        "       [ 0.40555455,  0.59444545],\n",
        "       [ 0.82715541,  0.17284459],\n",
        "       [ 0.79575262,  0.20424738],\n",
        "       [ 0.526725  ,  0.473275  ],\n",
        "       [ 0.84041525,  0.15958475],\n",
        "       [ 0.89459278,  0.10540722],\n",
        "       [ 0.62437144,  0.37562856],\n",
        "       [ 0.914253  ,  0.085747  ],\n",
        "       [ 0.32371851,  0.67628149],\n",
        "       [ 0.34825287,  0.65174713],\n",
        "       [ 0.73379644,  0.26620356],\n",
        "       [ 0.41728934,  0.58271066],\n",
        "       [ 0.38908171,  0.61091829],\n",
        "       [ 0.78543942,  0.21456058],\n",
        "       [ 0.628326  ,  0.371674  ],\n",
        "       [ 0.12007156,  0.87992844],\n",
        "       [ 0.74632362,  0.25367638],\n",
        "       [ 0.5082281 ,  0.4917719 ],\n",
        "       [ 0.45399493,  0.54600507],\n",
        "       [ 0.740109  ,  0.259891  ],\n",
        "       [ 0.0929377 ,  0.9070623 ],\n",
        "       [ 0.89149999,  0.10850001],\n",
        "       [ 0.91072902,  0.08927098],\n",
        "       [ 0.89770235,  0.10229765],\n",
        "       [ 0.68327997,  0.31672003],\n",
        "       [ 0.42595264,  0.57404736],\n",
        "       [ 0.50614169,  0.49385831],\n",
        "       [ 0.64163289,  0.35836711],\n",
        "       [ 0.39051155,  0.60948845],\n",
        "       [ 0.72599681,  0.27400319],\n",
        "       [ 0.1335825 ,  0.8664175 ],\n",
        "       [ 0.89762989,  0.10237011],\n",
        "       [ 0.20750344,  0.79249656],\n",
        "       [ 0.87822998,  0.12177002],\n",
        "       [ 0.17892921,  0.82107079],\n",
        "       [ 0.87825142,  0.12174858],\n",
        "       [ 0.16427345,  0.83572655],\n",
        "       [ 0.39799456,  0.60200544],\n",
        "       [ 0.88504568,  0.11495432],\n",
        "       [ 0.39053581,  0.60946419],\n",
        "       [ 0.9311972 ,  0.0688028 ],\n",
        "       [ 0.80773208,  0.19226792],\n",
        "       [ 0.66326917,  0.33673083],\n",
        "       [ 0.06953558,  0.93046442],\n",
        "       [ 0.87836103,  0.12163897],\n",
        "       [ 0.88694035,  0.11305965],\n",
        "       [ 0.59574553,  0.40425447],\n",
        "       [ 0.87472125,  0.12527875],\n",
        "       [ 0.76830408,  0.23169592],\n",
        "       [ 0.86640851,  0.13359149],\n",
        "       [ 0.16031984,  0.83968016],\n",
        "       [ 0.13565082,  0.86434918],\n",
        "       [ 0.17338043,  0.82661957],\n",
        "       [ 0.31216635,  0.68783365],\n",
        "       [ 0.63025052,  0.36974948],\n",
        "       [ 0.89764167,  0.10235833],\n",
        "       [ 0.89650823,  0.10349177],\n",
        "       [ 0.63239574,  0.36760426],\n",
        "       [ 0.17771563,  0.82228437],\n",
        "       [ 0.83415249,  0.16584751],\n",
        "       [ 0.21283978,  0.78716022],\n",
        "       [ 0.39814418,  0.60185582],\n",
        "       [ 0.09764304,  0.90235696],\n",
        "       [ 0.87471513,  0.12528487],\n",
        "       [ 0.48633531,  0.51366469],\n",
        "       [ 0.88819777,  0.11180223],\n",
        "       [ 0.9128647 ,  0.0871353 ],\n",
        "       [ 0.89766613,  0.10233387],\n",
        "       [ 0.88695057,  0.11304943],\n",
        "       [ 0.90058377,  0.09941623],\n",
        "       [ 0.16475226,  0.83524774],\n",
        "       [ 0.87825318,  0.12174682],\n",
        "       [ 0.92223819,  0.07776181],\n",
        "       [ 0.8782465 ,  0.1217535 ],\n",
        "       [ 0.21323652,  0.78676348],\n",
        "       [ 0.23436847,  0.76563153],\n",
        "       [ 0.76239742,  0.23760258],\n",
        "       [ 0.89764107,  0.10235893],\n",
        "       [ 0.53183466,  0.46816534],\n",
        "       [ 0.89766613,  0.10233387],\n",
        "       [ 0.41730133,  0.58269867],\n",
        "       [ 0.86354275,  0.13645725],\n",
        "       [ 0.6485337 ,  0.3514663 ],\n",
        "       [ 0.88695057,  0.11304943],\n",
        "       [ 0.0696381 ,  0.9303619 ],\n",
        "       [ 0.38908171,  0.61091829],\n",
        "       [ 0.89066224,  0.10933776],\n",
        "       [ 0.16784535,  0.83215465],\n",
        "       [ 0.76437092,  0.23562908],\n",
        "       [ 0.8256844 ,  0.1743156 ],\n",
        "       [ 0.77445526,  0.22554474],\n",
        "       [ 0.72738703,  0.27261297],\n",
        "       [ 0.38589422,  0.61410578],\n",
        "       [ 0.78781778,  0.21218222],\n",
        "       [ 0.39053581,  0.60946419],\n",
        "       [ 0.26894254,  0.73105746],\n",
        "       [ 0.23910815,  0.76089185],\n",
        "       [ 0.92164261,  0.07835739],\n",
        "       [ 0.89768786,  0.10231214],\n",
        "       [ 0.49123184,  0.50876816],\n",
        "       [ 0.89066192,  0.10933808],\n",
        "       [ 0.89762989,  0.10237011],\n",
        "       [ 0.52404996,  0.47595004],\n",
        "       [ 0.41417437,  0.58582563],\n",
        "       [ 0.89066192,  0.10933808],\n",
        "       [ 0.71292337,  0.28707663],\n",
        "       [ 0.92151434,  0.07848566],\n",
        "       [ 0.89460998,  0.10539002],\n",
        "       [ 0.09060372,  0.90939628],\n",
        "       [ 0.88954696,  0.11045304],\n",
        "       [ 0.54718778,  0.45281222],\n",
        "       [ 0.90347506,  0.09652494],\n",
        "       [ 0.91167045,  0.08832955],\n",
        "       [ 0.74390281,  0.25609719],\n",
        "       [ 0.83983267,  0.16016733],\n",
        "       [ 0.88824966,  0.11175034],\n",
        "       [ 0.39053581,  0.60946419],\n",
        "       [ 0.23262295,  0.76737705],\n",
        "       [ 0.5263907 ,  0.4736093 ],\n",
        "       [ 0.78883496,  0.21116504],\n",
        "       [ 0.72423587,  0.27576413],\n",
        "       [ 0.5615674 ,  0.4384326 ],\n",
        "       [ 0.86733485,  0.13266515],\n",
        "       [ 0.87376867,  0.12623133],\n",
        "       [ 0.89766431,  0.10233569],\n",
        "       [ 0.47018226,  0.52981774],\n",
        "       [ 0.16151766,  0.83848234],\n",
        "       [ 0.31632873,  0.68367127],\n",
        "       [ 0.71393788,  0.28606212],\n",
        "       [ 0.70759069,  0.29240931],\n",
        "       [ 0.89764408,  0.10235592],\n",
        "       [ 0.72408991,  0.27591009],\n",
        "       [ 0.89461896,  0.10538104],\n",
        "       [ 0.88415615,  0.11584385],\n",
        "       [ 0.75207182,  0.24792818],\n",
        "       [ 0.57492082,  0.42507918],\n",
        "       [ 0.10401005,  0.89598995],\n",
        "       [ 0.88510552,  0.11489448],\n",
        "       [ 0.13333958,  0.86666042],\n",
        "       [ 0.64782167,  0.35217833],\n",
        "       [ 0.76801428,  0.23198572],\n",
        "       [ 0.72048503,  0.27951497],\n",
        "       [ 0.33233547,  0.66766453],\n",
        "       [ 0.60361975,  0.39638025],\n",
        "       [ 0.89066224,  0.10933776],\n",
        "       [ 0.33743683,  0.66256317],\n",
        "       [ 0.89764107,  0.10235893],\n",
        "       [ 0.55099615,  0.44900385],\n",
        "       [ 0.78668894,  0.21331106],\n",
        "       [ 0.92331736,  0.07668264],\n",
        "       [ 0.74317467,  0.25682533],\n",
        "       [ 0.89066192,  0.10933808],\n",
        "       [ 0.70080758,  0.29919242],\n",
        "       [ 0.91168289,  0.08831711],\n",
        "       [ 0.89308533,  0.10691467],\n",
        "       [ 0.13629295,  0.86370705],\n",
        "       [ 0.89716142,  0.10283858],\n",
        "       [ 0.33364194,  0.66635806],\n",
        "       [ 0.75207182,  0.24792818],\n",
        "       [ 0.48767953,  0.51232047],\n",
        "       [ 0.73965356,  0.26034644],\n",
        "       [ 0.22464171,  0.77535829],\n",
        "       [ 0.12835129,  0.87164871],\n",
        "       [ 0.74632362,  0.25367638],\n",
        "       [ 0.69028483,  0.30971517],\n",
        "       [ 0.86028566,  0.13971434],\n",
        "       [ 0.22838468,  0.77161532],\n",
        "       [ 0.70182261,  0.29817739],\n",
        "       [ 0.2016445 ,  0.7983555 ],\n",
        "       [ 0.89764227,  0.10235773],\n",
        "       [ 0.88695057,  0.11304943],\n",
        "       [ 0.43977301,  0.56022699],\n",
        "       [ 0.84756009,  0.15243991],\n",
        "       [ 0.17455443,  0.82544557],\n",
        "       [ 0.22464171,  0.77535829],\n",
        "       [ 0.89758548,  0.10241452],\n",
        "       [ 0.07171315,  0.92828685],\n",
        "       [ 0.40555455,  0.59444545],\n",
        "       [ 0.89010536,  0.10989464],\n",
        "       [ 0.37246845,  0.62753155],\n",
        "       [ 0.12870101,  0.87129899],\n",
        "       [ 0.75628516,  0.24371484],\n",
        "       [ 0.72072325,  0.27927675],\n",
        "       [ 0.08108914,  0.91891086],\n",
        "       [ 0.69929363,  0.30070637],\n",
        "       [ 0.84499311,  0.15500689],\n",
        "       [ 0.1732402 ,  0.8267598 ],\n",
        "       [ 0.11178838,  0.88821162],\n",
        "       [ 0.37820626,  0.62179374],\n",
        "       [ 0.72072325,  0.27927675],\n",
        "       [ 0.73103588,  0.26896412],\n",
        "       [ 0.8078855 ,  0.1921145 ],\n",
        "       [ 0.88695057,  0.11304943],\n",
        "       [ 0.88363347,  0.11636653],\n",
        "       [ 0.41606469,  0.58393531],\n",
        "       [ 0.35417673,  0.64582327],\n",
        "       [ 0.75811196,  0.24188804],\n",
        "       [ 0.18220492,  0.81779508],\n",
        "       [ 0.88831913,  0.11168087],\n",
        "       [ 0.89275547,  0.10724453],\n",
        "       [ 0.86582936,  0.13417064],\n",
        "       [ 0.81412329,  0.18587671],\n",
        "       [ 0.48088383,  0.51911617],\n",
        "       [ 0.16423655,  0.83576345],\n",
        "       [ 0.84626894,  0.15373106],\n",
        "       [ 0.85760336,  0.14239664],\n",
        "       [ 0.90249583,  0.09750417],\n",
        "       [ 0.06192387,  0.93807613],\n",
        "       [ 0.87682099,  0.12317901],\n",
        "       [ 0.13818857,  0.86181143],\n",
        "       [ 0.88169248,  0.11830752],\n",
        "       [ 0.89936931,  0.10063069],\n",
        "       [ 0.0824233 ,  0.9175767 ],\n",
        "       [ 0.81670179,  0.18329821],\n",
        "       [ 0.06528476,  0.93471524],\n",
        "       [ 0.44144742,  0.55855258],\n",
        "       [ 0.63469011,  0.36530989],\n",
        "       [ 0.69832477,  0.30167523],\n",
        "       [ 0.73379644,  0.26620356],\n",
        "       [ 0.6537077 ,  0.3462923 ],\n",
        "       [ 0.39054129,  0.60945871],\n",
        "       [ 0.24602381,  0.75397619],\n",
        "       [ 0.39053581,  0.60946419],\n",
        "       [ 0.09671284,  0.90328716],\n",
        "       [ 0.42529351,  0.57470649],\n",
        "       [ 0.89762989,  0.10237011],\n",
        "       [ 0.10461863,  0.89538137],\n",
        "       [ 0.92732382,  0.07267618],\n",
        "       [ 0.89762989,  0.10237011],\n",
        "       [ 0.88949431,  0.11050569]])"
       ]
      }
     ],
     "prompt_number": 405
    },
    {
     "cell_type": "heading",
     "level": 2,
     "metadata": {},
     "source": [
      "3. Implement cross-validation for your logistic regression. Pick the number of \n",
      "folds. Explain your choice. "
     ]
    },
    {
     "cell_type": "code",
     "collapsed": false,
     "input": [
      "from sklearn.cross_validation import KFold"
     ],
     "language": "python",
     "metadata": {},
     "outputs": [],
     "prompt_number": 406
    },
    {
     "cell_type": "code",
     "collapsed": false,
     "input": [
      "X = np.array(feature_values)\n",
      "y = np.array(target)"
     ],
     "language": "python",
     "metadata": {},
     "outputs": [],
     "prompt_number": 419
    },
    {
     "cell_type": "code",
     "collapsed": false,
     "input": [
      "from sklearn.cross_validation import KFold\n",
      "\n",
      "def cross_validate(X, y, classifier, k_fold) :\n",
      "    \n",
      "    k_fold_indices = KFold( len(X), n_folds=k_fold,\n",
      "                           indices=True, shuffle=True,\n",
      "                           random_state=0)\n",
      "\n",
      "    k_score_total = 0\n",
      "    \n",
      "    for train_slice, test_slice in k_fold_indices :\n",
      "\n",
      "        model = classifier(X[[ train_slice  ]],\n",
      "                         y[[ train_slice  ]])\n",
      "\n",
      "        k_score = model.score(X[[ test_slice ]],\n",
      "                              y[[ test_slice ]])\n",
      "\n",
      "        k_score_total += k_score\n",
      "\n",
      "    \n",
      "    return k_score_total/k_fold"
     ],
     "language": "python",
     "metadata": {},
     "outputs": [],
     "prompt_number": 424
    },
    {
     "cell_type": "code",
     "collapsed": false,
     "input": [
      "cross_validate(X, y, lr.fit(feature_values_train, target_train), 5)"
     ],
     "language": "python",
     "metadata": {},
     "outputs": [
      {
       "ename": "TypeError",
       "evalue": "'LogisticRegression' object is not callable",
       "output_type": "pyerr",
       "traceback": [
        "\u001b[0;31m---------------------------------------------------------------------------\u001b[0m\n\u001b[0;31mTypeError\u001b[0m                                 Traceback (most recent call last)",
        "\u001b[0;32m<ipython-input-427-f9618169b673>\u001b[0m in \u001b[0;36m<module>\u001b[0;34m()\u001b[0m\n\u001b[0;32m----> 1\u001b[0;31m \u001b[0mcross_validate\u001b[0m\u001b[0;34m(\u001b[0m\u001b[0mX\u001b[0m\u001b[0;34m,\u001b[0m \u001b[0my\u001b[0m\u001b[0;34m,\u001b[0m \u001b[0mlr\u001b[0m\u001b[0;34m.\u001b[0m\u001b[0mfit\u001b[0m\u001b[0;34m(\u001b[0m\u001b[0mfeature_values_train\u001b[0m\u001b[0;34m,\u001b[0m \u001b[0mtarget_train\u001b[0m\u001b[0;34m)\u001b[0m\u001b[0;34m,\u001b[0m \u001b[0;36m5\u001b[0m\u001b[0;34m)\u001b[0m\u001b[0;34m\u001b[0m\u001b[0m\n\u001b[0m",
        "\u001b[0;32m<ipython-input-424-391246bcfb9b>\u001b[0m in \u001b[0;36mcross_validate\u001b[0;34m(X, y, classifier, k_fold)\u001b[0m\n\u001b[1;32m     12\u001b[0m \u001b[0;34m\u001b[0m\u001b[0m\n\u001b[1;32m     13\u001b[0m         model = classifier(X[[ train_slice  ]],\n\u001b[0;32m---> 14\u001b[0;31m                          y[[ train_slice  ]])\n\u001b[0m\u001b[1;32m     15\u001b[0m \u001b[0;34m\u001b[0m\u001b[0m\n\u001b[1;32m     16\u001b[0m         k_score = model.score(X[[ test_slice ]],\n",
        "\u001b[0;31mTypeError\u001b[0m: 'LogisticRegression' object is not callable"
       ]
      }
     ],
     "prompt_number": 427
    },
    {
     "cell_type": "raw",
     "metadata": {},
     "source": [
      "I'm definitely doing something wrong here.  I've played around with it trying different variables and formats using the previous homework assignment for reference.  Based on my understanding of cross-validation and our previous uses of it, I'm thinking that n-fold anywhere between 3 and 15 will work pretty well with small increases in accuracy up until a certain point at which overfitting will occur.  "
     ]
    },
    {
     "cell_type": "heading",
     "level": 2,
     "metadata": {},
     "source": [
      "4. Create an ROC curve for your logistic regression by varying the threshold value for survival. "
     ]
    },
    {
     "cell_type": "heading",
     "level": 3,
     "metadata": {},
     "source": [
      "a. Plot this ROC curve visually. "
     ]
    },
    {
     "cell_type": "code",
     "collapsed": false,
     "input": [
      "target_predicted_proba = lr.predict_proba(feature_values_test)\n",
      "target_predicted_proba[:5]"
     ],
     "language": "python",
     "metadata": {},
     "outputs": [
      {
       "metadata": {},
       "output_type": "pyout",
       "prompt_number": 436,
       "text": [
        "array([[ 0.89325054,  0.10674946],\n",
        "       [ 0.90061908,  0.09938092],\n",
        "       [ 0.80088065,  0.19911935],\n",
        "       [ 0.07345317,  0.92654683],\n",
        "       [ 0.41369806,  0.58630194]])"
       ]
      }
     ],
     "prompt_number": 436
    },
    {
     "cell_type": "code",
     "collapsed": false,
     "input": [
      "from sklearn.metrics import roc_curve\n",
      "from sklearn.metrics import auc\n",
      "\n",
      "def plot_roc_curve(target_test, target_predicted_proba):\n",
      "    fpr, tpr, thresholds = roc_curve(target_test, target_predicted_proba[:, 1])\n",
      "    \n",
      "    roc_auc = auc(fpr, tpr)\n",
      "  \n",
      "    \n",
      "    plt.plot(fpr, tpr, label='ROC curve (area = %0.3f)' % roc_auc)\n",
      "    plt.plot([0, 1], [0, 1], 'k--')  \n",
      "    plt.xlim([0.0, 1.0])\n",
      "    plt.ylim([0.0, 1.0])\n",
      "    plt.xlabel('False Positive Rate or (1 - Specifity)')\n",
      "    plt.ylabel('True Positive Rate or (Sensitivity)')\n",
      "    plt.title('Receiver Operating Characteristic')\n",
      "    plt.legend(loc=\"best\")"
     ],
     "language": "python",
     "metadata": {},
     "outputs": [],
     "prompt_number": 437
    },
    {
     "cell_type": "code",
     "collapsed": false,
     "input": [
      "plot_roc_curve(target_test, target_predicted_proba)"
     ],
     "language": "python",
     "metadata": {},
     "outputs": [
      {
       "metadata": {},
       "output_type": "display_data",
       "png": "[encoded data removed]",
       "text": [
        "<matplotlib.figure.Figure at 0x10a948550>"
       ]
      }
     ],
     "prompt_number": 438
    },
    {
     "cell_type": "heading",
     "level": 3,
     "metadata": {},
     "source": [
      "b. What is the AUC for your model? "
     ]
    },
    {
     "cell_type": "raw",
     "metadata": {},
     "source": [
      "the AUC is .867"
     ]
    },
    {
     "cell_type": "code",
     "collapsed": false,
     "input": [
      "from sklearn.metrics import confusion_matrix\n",
      "\n",
      "print(confusion_matrix(target_test, target_predicted))"
     ],
     "language": "python",
     "metadata": {},
     "outputs": [
      {
       "output_type": "stream",
       "stream": "stdout",
       "text": [
        "[[93 17]\n",
        " [18 51]]\n"
       ]
      }
     ],
     "prompt_number": 440
    },
    {
     "cell_type": "heading",
     "level": 3,
     "metadata": {},
     "source": [
      "c. Explain why the model has achieved this level of accuracy/precision. "
     ]
    },
    {
     "cell_type": "raw",
     "metadata": {},
     "source": [
      "The confusion matrix describes false positve rate and true positive rate which form the x and y axis of the ROC curve."
     ]
    },
    {
     "cell_type": "heading",
     "level": 3,
     "metadata": {},
     "source": [
      "d. Explain how you could improve these metrics, as potential next steps. \n"
     ]
    },
    {
     "cell_type": "raw",
     "metadata": {},
     "source": [
      "I would want to pick different features to improve my model.  Gender and pclass are useful, but I could eliminate or swap out others."
     ]
    }
   ],
   "metadata": {}
  }
 ]
}